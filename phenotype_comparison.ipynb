{
 "cells": [
  {
   "cell_type": "markdown",
   "metadata": {},
   "source": [
    "# Import statements, load data"
   ]
  },
  {
   "cell_type": "code",
   "execution_count": 2,
   "metadata": {},
   "outputs": [],
   "source": [
    "import pandas as pd\n",
    "import numpy as np\n",
    "from scipy import stats\n",
    "import matplotlib.pyplot as plt\n",
    "import seaborn as sns\n",
    "\n",
    "dir = \"/Users/amulyagarimella/Desktop/Buenrostro_Lab/Progeria/progeria-prediction/\"\n",
    "progeria = pd.read_csv(rf\"{dir}230705_progeria_c2/IdentifyPrimaryObjects.csv\")\n",
    "normal = pd.read_csv(rf\"{dir}230705_normal_c2/IdentifyPrimaryObjects.csv\")"
   ]
  },
  {
   "cell_type": "markdown",
   "metadata": {},
   "source": [
    "# General comparison functions"
   ]
  },
  {
   "cell_type": "code",
   "execution_count": 3,
   "metadata": {},
   "outputs": [],
   "source": [
    "def hist(col, data1 = progeria, data2 = normal, xlim=None, ylim=None):\n",
    "    sns.histplot(data=data1,x=col,color=\"r\",label=\"Progeria\",stat=\"probability\")\n",
    "    sns.histplot(data=data2,x=col,color=\"b\",label=\"Normal\",stat=\"probability\")\n",
    "    if xlim:\n",
    "        plt.xlim(xlim)\n",
    "    if ylim:\n",
    "        plt.ylim(ylim)\n",
    "    plt.legend()\n",
    "    plt.show()\n",
    "\n",
    "def ttest (data1 = progeria, data2 = normal, cols=None):\n",
    "    if not cols:\n",
    "        cols = data1.columns\n",
    "    tstat, tp = stats.ttest_ind(data1[cols], data2[cols], axis=0, nan_policy='omit')\n",
    "    return dict(zip(cols, tstat)), dict(zip(cols, tp))\n",
    "\n",
    "def split_vp(col, data1 = progeria, data2 = normal, xlim=None, ylim=None):\n",
    "   p = pd.concat([data1[col], data2[col]],axis=1).set_axis(labels=['progeria','normal'],axis=1)\n",
    "   p.replace([np.inf, -np.inf], np.nan, inplace=True)\n",
    "   p = p.dropna()\n",
    "   p = pd.melt(p,value_name=col,var_name='condition')\n",
    "   sns.violinplot(data=p, x=pd.Series(['']*len(p)), y=col, hue='condition', legend=True,split=True,scale='width')\n",
    "   if xlim:\n",
    "        plt.xlim(xlim)\n",
    "   if ylim:\n",
    "      plt.ylim(ylim)\n",
    "   plt.show()"
   ]
  },
  {
   "cell_type": "markdown",
   "metadata": {},
   "source": [
    "# Comparison: all cells"
   ]
  },
  {
   "cell_type": "code",
   "execution_count": 4,
   "metadata": {},
   "outputs": [],
   "source": [
    "cols_to_drop = [\"ImageNumber\", \"ObjectNumber\", \"Number_Object_Number\"]\n",
    "size_based = [\"AreaShape_Area\",\"AreaShape_Perimeter\", \"AreaShape_BoundingBoxArea\", \"AreaShape_BoundingBoxMaximum_X\", \"AreaShape_BoundingBoxMaximum_Y\", \"AreaShape_BoundingBoxMinimum_X\", \"AreaShape_BoundingBoxMinimum_Y\", \"AreaShape_ConvexArea\", \"AreaShape_EquivalentDiameter\", \"AreaShape_MajorAxisLength\", \"AreaShape_MinorAxisLength\", \"AreaShape_MaxFeretDiameter\", \"AreaShape_MinFeretDiameter\", \"AreaShape_MaximumRadius\", \"AreaShape_MeanRadius\", \"AreaShape_MedianRadius\"]\n",
    "posn_based = [\"AreaShape_Center_X\", \"AreaShape_Center_Y\", \"Location_Center_X\",\"Location_Center_Y\", \"Location_Center_Z\"]\n",
    "\t\t\n",
    "features = [x for x in progeria.columns if x not in cols_to_drop]\n",
    "relative_features = [x for x in progeria.columns if x not in cols_to_drop + size_based + posn_based]"
   ]
  },
  {
   "cell_type": "code",
   "execution_count": 5,
   "metadata": {},
   "outputs": [],
   "source": [
    "tstats_all, tps_all = ttest(cols=relative_features)"
   ]
  },
  {
   "cell_type": "markdown",
   "metadata": {},
   "source": [
    "# Comparison: remove progeria images with too many objects"
   ]
  },
  {
   "cell_type": "code",
   "execution_count": 6,
   "metadata": {},
   "outputs": [
    {
     "name": "stdout",
     "output_type": "stream",
     "text": [
      "(502, 142)\n"
     ]
    }
   ],
   "source": [
    "max_objs = normal.ObjectNumber.max() \n",
    "progeria_fewer_objs = progeria.groupby('ImageNumber').filter(lambda x: x['ObjectNumber'].max()<=max_objs ).reset_index(drop=True)\n",
    "print((len(progeria_fewer_objs), len(normal)))"
   ]
  },
  {
   "cell_type": "markdown",
   "metadata": {},
   "source": [
    "## Checking which features are significant"
   ]
  },
  {
   "cell_type": "code",
   "execution_count": 177,
   "metadata": {},
   "outputs": [],
   "source": [
    "tstats_progeria_fewer_objs, tps_progeria_fewer_objs = ttest(cols=relative_features, data1=progeria_fewer_objs)"
   ]
  },
  {
   "cell_type": "code",
   "execution_count": 178,
   "metadata": {},
   "outputs": [
    {
     "name": "stdout",
     "output_type": "stream",
     "text": [
      "['AreaShape_Eccentricity', 'AreaShape_Orientation', 'AreaShape_Solidity', 'AreaShape_Zernike_0_0', 'AreaShape_Zernike_2_0', 'AreaShape_Zernike_2_2', 'AreaShape_Zernike_4_0', 'AreaShape_Zernike_4_2', 'AreaShape_Zernike_4_4', 'AreaShape_Zernike_5_3', 'AreaShape_Zernike_5_5', 'AreaShape_Zernike_6_0', 'AreaShape_Zernike_6_2', 'AreaShape_Zernike_6_4', 'AreaShape_Zernike_6_6', 'AreaShape_Zernike_7_1', 'AreaShape_Zernike_7_3', 'AreaShape_Zernike_7_5', 'AreaShape_Zernike_7_7', 'AreaShape_Zernike_8_0', 'AreaShape_Zernike_8_2', 'AreaShape_Zernike_8_4', 'AreaShape_Zernike_8_6', 'AreaShape_Zernike_8_8', 'AreaShape_Zernike_9_1', 'AreaShape_Zernike_9_3', 'AreaShape_Zernike_9_5', 'AreaShape_Zernike_9_7', 'AreaShape_Zernike_9_9']\n",
      "['AreaShape_Eccentricity', 'AreaShape_FormFactor', 'AreaShape_Orientation', 'AreaShape_Solidity', 'AreaShape_Zernike_0_0', 'AreaShape_Zernike_1_1', 'AreaShape_Zernike_2_0', 'AreaShape_Zernike_2_2', 'AreaShape_Zernike_4_2', 'AreaShape_Zernike_4_4', 'AreaShape_Zernike_6_0', 'AreaShape_Zernike_6_2', 'AreaShape_Zernike_6_4', 'AreaShape_Zernike_6_6', 'AreaShape_Zernike_8_0', 'AreaShape_Zernike_8_2', 'AreaShape_Zernike_8_4', 'AreaShape_Zernike_8_6', 'AreaShape_Zernike_8_8', 'AreaShape_Zernike_9_9']\n"
     ]
    }
   ],
   "source": [
    "print([x for x in relative_features if tps_all[x] < 0.05])\n",
    "print([x for x in relative_features if tps_progeria_fewer_objs[x] < 0.05])"
   ]
  },
  {
   "cell_type": "code",
   "execution_count": 281,
   "metadata": {},
   "outputs": [
    {
     "name": "stdout",
     "output_type": "stream",
     "text": [
      "more significant in all cells: AreaShape_Compactness, AreaShape_Extent, AreaShape_Orientation, AreaShape_Solidity, AreaShape_Zernike_2_0, AreaShape_Zernike_2_2, AreaShape_Zernike_4_0, AreaShape_Zernike_4_2, AreaShape_Zernike_4_4, AreaShape_Zernike_5_1, AreaShape_Zernike_5_3, AreaShape_Zernike_5_5, AreaShape_Zernike_6_0, AreaShape_Zernike_6_2, AreaShape_Zernike_6_4, AreaShape_Zernike_6_6, AreaShape_Zernike_7_1, AreaShape_Zernike_7_3, AreaShape_Zernike_7_5, AreaShape_Zernike_7_7, AreaShape_Zernike_8_0, AreaShape_Zernike_8_2, AreaShape_Zernike_8_4, AreaShape_Zernike_8_6, AreaShape_Zernike_8_8, AreaShape_Zernike_9_1, AreaShape_Zernike_9_3, AreaShape_Zernike_9_5, AreaShape_Zernike_9_7, AreaShape_Zernike_9_9\n",
      "more significant in cut cells: AreaShape_Eccentricity, AreaShape_EulerNumber, AreaShape_FormFactor, AreaShape_Zernike_0_0, AreaShape_Zernike_1_1, AreaShape_Zernike_3_1, AreaShape_Zernike_3_3\n"
     ]
    }
   ],
   "source": [
    "print(\"more significant in all cells: \" + \", \".join([x for x in relative_features if tps_all[x] < tps_progeria_fewer_objs[x]]))\n",
    "print(\"more significant in cut cells: \" + \", \".join([x for x in relative_features if tps_all[x] > tps_progeria_fewer_objs[x]]))"
   ]
  },
  {
   "cell_type": "code",
   "execution_count": 183,
   "metadata": {},
   "outputs": [
    {
     "data": {
      "image/png": "[encoded data removed]",
      "text/plain": [
       "<Figure size 432x288 with 1 Axes>"
      ]
     },
     "metadata": {
      "needs_background": "light"
     },
     "output_type": "display_data"
    }
   ],
   "source": [
    "hist(\"AreaShape_FormFactor\", data1=progeria_fewer_objs)"
   ]
  },
  {
   "cell_type": "code",
   "execution_count": 187,
   "metadata": {},
   "outputs": [
    {
     "data": {
      "image/png": "[encoded data removed]",
      "text/plain": [
       "<Figure size 432x288 with 1 Axes>"
      ]
     },
     "metadata": {
      "needs_background": "light"
     },
     "output_type": "display_data"
    }
   ],
   "source": [
    "split_vp(\"AreaShape_Compactness\", data1=progeria_fewer_objs)"
   ]
  },
  {
   "cell_type": "code",
   "execution_count": 185,
   "metadata": {},
   "outputs": [
    {
     "data": {
      "image/png": "[encoded data removed]",
      "text/plain": [
       "<Figure size 432x288 with 1 Axes>"
      ]
     },
     "metadata": {
      "needs_background": "light"
     },
     "output_type": "display_data"
    }
   ],
   "source": [
    "split_vp(\"AreaShape_Eccentricity\", data1=progeria,ylim=(-0.1,1.1))"
   ]
  },
  {
   "cell_type": "markdown",
   "metadata": {},
   "source": [
    "# Nuclei # detection comparison"
   ]
  },
  {
   "cell_type": "code",
   "execution_count": 262,
   "metadata": {},
   "outputs": [
    {
     "data": {
      "image/png": "[encoded data removed]",
      "text/plain": [
       "<Figure size 432x288 with 1 Axes>"
      ]
     },
     "metadata": {
      "needs_background": "light"
     },
     "output_type": "display_data"
    }
   ],
   "source": [
    "prog_objnum = progeria.groupby('ImageNumber').max('ObjectNumber')['ObjectNumber']\n",
    "norm_objnum = normal.groupby('ImageNumber').max('ObjectNumber')['ObjectNumber']\n",
    "sns.kdeplot(x=prog_objnum, label=\"progeria\")\n",
    "sns.kdeplot(x=norm_objnum, label=\"normal\")\n",
    "plt.xlabel(\"Object Count\")\n",
    "plt.legend()\n",
    "plt.show()"
   ]
  },
  {
   "cell_type": "code",
   "execution_count": 273,
   "metadata": {},
   "outputs": [
    {
     "name": "stdout",
     "output_type": "stream",
     "text": [
      "17.94999999999999\n",
      "3.0\n"
     ]
    }
   ],
   "source": [
    "print(np.percentile(prog_objnum, 95))\n",
    "print(np.percentile(norm_objnum, 95))"
   ]
  },
  {
   "cell_type": "markdown",
   "metadata": {},
   "source": [
    "# Comparison: restrict all to 3 cell images (kinda arbitrary)"
   ]
  },
  {
   "cell_type": "code",
   "execution_count": 12,
   "metadata": {},
   "outputs": [
    {
     "name": "stdout",
     "output_type": "stream",
     "text": [
      "(120, 122)\n"
     ]
    }
   ],
   "source": [
    "progeria_nc = progeria.groupby('ImageNumber').filter(lambda x: x['ObjectNumber'].max()<=3).reset_index(drop=True)\n",
    "normal_nc = normal.groupby('ImageNumber').filter(lambda x: x['ObjectNumber'].max()<=3).reset_index(drop=True)\n",
    "print((len(progeria_nc), len(normal_nc)))\n",
    "progeria_nc.to_csv(f\"{dir}230705_progeria_c2/progeria_3objs.csv\")\n",
    "normal_nc.to_csv(f\"{dir}230705_normal_c2/normal_3objs.csv\")"
   ]
  },
  {
   "cell_type": "code",
   "execution_count": 8,
   "metadata": {},
   "outputs": [],
   "source": [
    "tstats_nc, tps_nc = ttest(cols=relative_features, data1=progeria_nc, data2=normal_nc)"
   ]
  },
  {
   "cell_type": "code",
   "execution_count": 9,
   "metadata": {},
   "outputs": [
    {
     "name": "stdout",
     "output_type": "stream",
     "text": [
      "more significant in all cells: AreaShape_Compactness, AreaShape_Extent, AreaShape_Orientation, AreaShape_Zernike_4_2, AreaShape_Zernike_5_3, AreaShape_Zernike_5_5, AreaShape_Zernike_6_0, AreaShape_Zernike_6_2, AreaShape_Zernike_6_4, AreaShape_Zernike_6_6, AreaShape_Zernike_7_1, AreaShape_Zernike_7_3, AreaShape_Zernike_7_5, AreaShape_Zernike_7_7, AreaShape_Zernike_8_0, AreaShape_Zernike_8_2, AreaShape_Zernike_8_4, AreaShape_Zernike_8_6, AreaShape_Zernike_8_8, AreaShape_Zernike_9_1, AreaShape_Zernike_9_3, AreaShape_Zernike_9_5, AreaShape_Zernike_9_7, AreaShape_Zernike_9_9\n",
      "more significant in single cells: AreaShape_Eccentricity, AreaShape_EulerNumber, AreaShape_FormFactor, AreaShape_Solidity, AreaShape_Zernike_0_0, AreaShape_Zernike_1_1, AreaShape_Zernike_2_0, AreaShape_Zernike_2_2, AreaShape_Zernike_3_1, AreaShape_Zernike_3_3, AreaShape_Zernike_4_0, AreaShape_Zernike_4_4, AreaShape_Zernike_5_1\n"
     ]
    }
   ],
   "source": [
    "print(\"more significant in all cells: \" + \", \".join([x for x in relative_features if tps_all[x] < tps_nc[x]]))\n",
    "print(\"more significant in single cells: \" + \", \".join([x for x in relative_features if tps_all[x] > tps_nc[x]]))"
   ]
  },
  {
   "cell_type": "code",
   "execution_count": 10,
   "metadata": {},
   "outputs": [
    {
     "data": {
      "text/html": [
       "<div>\n",
       "<style scoped>\n",
       "    .dataframe tbody tr th:only-of-type {\n",
       "        vertical-align: middle;\n",
       "    }\n",
       "\n",
       "    .dataframe tbody tr th {\n",
       "        vertical-align: top;\n",
       "    }\n",
       "\n",
       "    .dataframe thead th {\n",
       "        text-align: right;\n",
       "    }\n",
       "</style>\n",
       "<table border=\"1\" class=\"dataframe\">\n",
       "  <thead>\n",
       "    <tr style=\"text-align: right;\">\n",
       "      <th></th>\n",
       "      <th>ImageNumber</th>\n",
       "      <th>ObjectNumber</th>\n",
       "      <th>AreaShape_Area</th>\n",
       "      <th>AreaShape_BoundingBoxArea</th>\n",
       "      <th>AreaShape_BoundingBoxMaximum_X</th>\n",
       "      <th>AreaShape_BoundingBoxMaximum_Y</th>\n",
       "      <th>AreaShape_BoundingBoxMinimum_X</th>\n",
       "      <th>AreaShape_BoundingBoxMinimum_Y</th>\n",
       "      <th>AreaShape_Center_X</th>\n",
       "      <th>AreaShape_Center_Y</th>\n",
       "      <th>...</th>\n",
       "      <th>AreaShape_Zernike_8_8</th>\n",
       "      <th>AreaShape_Zernike_9_1</th>\n",
       "      <th>AreaShape_Zernike_9_3</th>\n",
       "      <th>AreaShape_Zernike_9_5</th>\n",
       "      <th>AreaShape_Zernike_9_7</th>\n",
       "      <th>AreaShape_Zernike_9_9</th>\n",
       "      <th>Location_Center_X</th>\n",
       "      <th>Location_Center_Y</th>\n",
       "      <th>Location_Center_Z</th>\n",
       "      <th>Number_Object_Number</th>\n",
       "    </tr>\n",
       "  </thead>\n",
       "  <tbody>\n",
       "    <tr>\n",
       "      <th>0</th>\n",
       "      <td>1</td>\n",
       "      <td>1</td>\n",
       "      <td>1468</td>\n",
       "      <td>1998</td>\n",
       "      <td>210</td>\n",
       "      <td>111</td>\n",
       "      <td>173</td>\n",
       "      <td>57</td>\n",
       "      <td>191.260218</td>\n",
       "      <td>83.703678</td>\n",
       "      <td>...</td>\n",
       "      <td>0.003743</td>\n",
       "      <td>0.000147</td>\n",
       "      <td>0.000614</td>\n",
       "      <td>0.002853</td>\n",
       "      <td>0.004647</td>\n",
       "      <td>0.001938</td>\n",
       "      <td>191.260218</td>\n",
       "      <td>83.703678</td>\n",
       "      <td>0</td>\n",
       "      <td>1</td>\n",
       "    </tr>\n",
       "    <tr>\n",
       "      <th>1</th>\n",
       "      <td>1</td>\n",
       "      <td>2</td>\n",
       "      <td>1887</td>\n",
       "      <td>2420</td>\n",
       "      <td>198</td>\n",
       "      <td>293</td>\n",
       "      <td>154</td>\n",
       "      <td>238</td>\n",
       "      <td>175.155803</td>\n",
       "      <td>265.281929</td>\n",
       "      <td>...</td>\n",
       "      <td>0.001960</td>\n",
       "      <td>0.010123</td>\n",
       "      <td>0.010872</td>\n",
       "      <td>0.003388</td>\n",
       "      <td>0.002730</td>\n",
       "      <td>0.001055</td>\n",
       "      <td>175.155803</td>\n",
       "      <td>265.281929</td>\n",
       "      <td>0</td>\n",
       "      <td>2</td>\n",
       "    </tr>\n",
       "    <tr>\n",
       "      <th>2</th>\n",
       "      <td>1</td>\n",
       "      <td>3</td>\n",
       "      <td>1670</td>\n",
       "      <td>2013</td>\n",
       "      <td>403</td>\n",
       "      <td>378</td>\n",
       "      <td>370</td>\n",
       "      <td>317</td>\n",
       "      <td>386.124551</td>\n",
       "      <td>347.588623</td>\n",
       "      <td>...</td>\n",
       "      <td>0.004437</td>\n",
       "      <td>0.000422</td>\n",
       "      <td>0.001709</td>\n",
       "      <td>0.001811</td>\n",
       "      <td>0.003297</td>\n",
       "      <td>0.001527</td>\n",
       "      <td>386.124551</td>\n",
       "      <td>347.588623</td>\n",
       "      <td>0</td>\n",
       "      <td>3</td>\n",
       "    </tr>\n",
       "    <tr>\n",
       "      <th>3</th>\n",
       "      <td>1</td>\n",
       "      <td>4</td>\n",
       "      <td>1516</td>\n",
       "      <td>2115</td>\n",
       "      <td>75</td>\n",
       "      <td>406</td>\n",
       "      <td>28</td>\n",
       "      <td>361</td>\n",
       "      <td>50.935356</td>\n",
       "      <td>382.577836</td>\n",
       "      <td>...</td>\n",
       "      <td>0.000325</td>\n",
       "      <td>0.002362</td>\n",
       "      <td>0.002383</td>\n",
       "      <td>0.003189</td>\n",
       "      <td>0.001942</td>\n",
       "      <td>0.000501</td>\n",
       "      <td>50.935356</td>\n",
       "      <td>382.577836</td>\n",
       "      <td>0</td>\n",
       "      <td>4</td>\n",
       "    </tr>\n",
       "    <tr>\n",
       "      <th>4</th>\n",
       "      <td>1</td>\n",
       "      <td>5</td>\n",
       "      <td>1713</td>\n",
       "      <td>2296</td>\n",
       "      <td>134</td>\n",
       "      <td>496</td>\n",
       "      <td>93</td>\n",
       "      <td>440</td>\n",
       "      <td>114.208990</td>\n",
       "      <td>467.850555</td>\n",
       "      <td>...</td>\n",
       "      <td>0.003637</td>\n",
       "      <td>0.006038</td>\n",
       "      <td>0.006354</td>\n",
       "      <td>0.005241</td>\n",
       "      <td>0.001666</td>\n",
       "      <td>0.000782</td>\n",
       "      <td>114.208990</td>\n",
       "      <td>467.850555</td>\n",
       "      <td>0</td>\n",
       "      <td>5</td>\n",
       "    </tr>\n",
       "    <tr>\n",
       "      <th>...</th>\n",
       "      <td>...</td>\n",
       "      <td>...</td>\n",
       "      <td>...</td>\n",
       "      <td>...</td>\n",
       "      <td>...</td>\n",
       "      <td>...</td>\n",
       "      <td>...</td>\n",
       "      <td>...</td>\n",
       "      <td>...</td>\n",
       "      <td>...</td>\n",
       "      <td>...</td>\n",
       "      <td>...</td>\n",
       "      <td>...</td>\n",
       "      <td>...</td>\n",
       "      <td>...</td>\n",
       "      <td>...</td>\n",
       "      <td>...</td>\n",
       "      <td>...</td>\n",
       "      <td>...</td>\n",
       "      <td>...</td>\n",
       "      <td>...</td>\n",
       "    </tr>\n",
       "    <tr>\n",
       "      <th>497</th>\n",
       "      <td>258</td>\n",
       "      <td>1</td>\n",
       "      <td>73022</td>\n",
       "      <td>101697</td>\n",
       "      <td>408</td>\n",
       "      <td>430</td>\n",
       "      <td>97</td>\n",
       "      <td>103</td>\n",
       "      <td>251.964668</td>\n",
       "      <td>270.975761</td>\n",
       "      <td>...</td>\n",
       "      <td>0.003366</td>\n",
       "      <td>0.009051</td>\n",
       "      <td>0.009114</td>\n",
       "      <td>0.003466</td>\n",
       "      <td>0.001668</td>\n",
       "      <td>0.003888</td>\n",
       "      <td>251.964668</td>\n",
       "      <td>270.975761</td>\n",
       "      <td>0</td>\n",
       "      <td>1</td>\n",
       "    </tr>\n",
       "    <tr>\n",
       "      <th>498</th>\n",
       "      <td>259</td>\n",
       "      <td>1</td>\n",
       "      <td>20051</td>\n",
       "      <td>29925</td>\n",
       "      <td>366</td>\n",
       "      <td>420</td>\n",
       "      <td>271</td>\n",
       "      <td>105</td>\n",
       "      <td>326.759015</td>\n",
       "      <td>246.063987</td>\n",
       "      <td>...</td>\n",
       "      <td>0.007246</td>\n",
       "      <td>0.004257</td>\n",
       "      <td>0.007464</td>\n",
       "      <td>0.003554</td>\n",
       "      <td>0.001413</td>\n",
       "      <td>0.001338</td>\n",
       "      <td>326.759015</td>\n",
       "      <td>246.063987</td>\n",
       "      <td>0</td>\n",
       "      <td>1</td>\n",
       "    </tr>\n",
       "    <tr>\n",
       "      <th>499</th>\n",
       "      <td>259</td>\n",
       "      <td>2</td>\n",
       "      <td>43492</td>\n",
       "      <td>80514</td>\n",
       "      <td>324</td>\n",
       "      <td>482</td>\n",
       "      <td>135</td>\n",
       "      <td>56</td>\n",
       "      <td>240.638393</td>\n",
       "      <td>272.508001</td>\n",
       "      <td>...</td>\n",
       "      <td>0.006242</td>\n",
       "      <td>0.005979</td>\n",
       "      <td>0.002588</td>\n",
       "      <td>0.014840</td>\n",
       "      <td>0.003823</td>\n",
       "      <td>0.004176</td>\n",
       "      <td>240.638393</td>\n",
       "      <td>272.508001</td>\n",
       "      <td>0</td>\n",
       "      <td>2</td>\n",
       "    </tr>\n",
       "    <tr>\n",
       "      <th>500</th>\n",
       "      <td>260</td>\n",
       "      <td>1</td>\n",
       "      <td>37548</td>\n",
       "      <td>47082</td>\n",
       "      <td>354</td>\n",
       "      <td>404</td>\n",
       "      <td>177</td>\n",
       "      <td>138</td>\n",
       "      <td>266.032731</td>\n",
       "      <td>268.818739</td>\n",
       "      <td>...</td>\n",
       "      <td>0.002946</td>\n",
       "      <td>0.000134</td>\n",
       "      <td>0.002126</td>\n",
       "      <td>0.002532</td>\n",
       "      <td>0.001625</td>\n",
       "      <td>0.000706</td>\n",
       "      <td>266.032731</td>\n",
       "      <td>268.818739</td>\n",
       "      <td>0</td>\n",
       "      <td>1</td>\n",
       "    </tr>\n",
       "    <tr>\n",
       "      <th>501</th>\n",
       "      <td>261</td>\n",
       "      <td>1</td>\n",
       "      <td>37239</td>\n",
       "      <td>47082</td>\n",
       "      <td>354</td>\n",
       "      <td>404</td>\n",
       "      <td>177</td>\n",
       "      <td>138</td>\n",
       "      <td>265.984908</td>\n",
       "      <td>268.715916</td>\n",
       "      <td>...</td>\n",
       "      <td>0.003127</td>\n",
       "      <td>0.001363</td>\n",
       "      <td>0.002302</td>\n",
       "      <td>0.002722</td>\n",
       "      <td>0.000194</td>\n",
       "      <td>0.000518</td>\n",
       "      <td>265.984908</td>\n",
       "      <td>268.715916</td>\n",
       "      <td>0</td>\n",
       "      <td>1</td>\n",
       "    </tr>\n",
       "  </tbody>\n",
       "</table>\n",
       "<p>502 rows × 61 columns</p>\n",
       "</div>"
      ],
      "text/plain": [
       "     ImageNumber  ObjectNumber  AreaShape_Area  AreaShape_BoundingBoxArea  \\\n",
       "0              1             1            1468                       1998   \n",
       "1              1             2            1887                       2420   \n",
       "2              1             3            1670                       2013   \n",
       "3              1             4            1516                       2115   \n",
       "4              1             5            1713                       2296   \n",
       "..           ...           ...             ...                        ...   \n",
       "497          258             1           73022                     101697   \n",
       "498          259             1           20051                      29925   \n",
       "499          259             2           43492                      80514   \n",
       "500          260             1           37548                      47082   \n",
       "501          261             1           37239                      47082   \n",
       "\n",
       "     AreaShape_BoundingBoxMaximum_X  AreaShape_BoundingBoxMaximum_Y  \\\n",
       "0                               210                             111   \n",
       "1                               198                             293   \n",
       "2                               403                             378   \n",
       "3                                75                             406   \n",
       "4                               134                             496   \n",
       "..                              ...                             ...   \n",
       "497                             408                             430   \n",
       "498                             366                             420   \n",
       "499                             324                             482   \n",
       "500                             354                             404   \n",
       "501                             354                             404   \n",
       "\n",
       "     AreaShape_BoundingBoxMinimum_X  AreaShape_BoundingBoxMinimum_Y  \\\n",
       "0                               173                              57   \n",
       "1                               154                             238   \n",
       "2                               370                             317   \n",
       "3                                28                             361   \n",
       "4                                93                             440   \n",
       "..                              ...                             ...   \n",
       "497                              97                             103   \n",
       "498                             271                             105   \n",
       "499                             135                              56   \n",
       "500                             177                             138   \n",
       "501                             177                             138   \n",
       "\n",
       "     AreaShape_Center_X  AreaShape_Center_Y  ...  AreaShape_Zernike_8_8  \\\n",
       "0            191.260218           83.703678  ...               0.003743   \n",
       "1            175.155803          265.281929  ...               0.001960   \n",
       "2            386.124551          347.588623  ...               0.004437   \n",
       "3             50.935356          382.577836  ...               0.000325   \n",
       "4            114.208990          467.850555  ...               0.003637   \n",
       "..                  ...                 ...  ...                    ...   \n",
       "497          251.964668          270.975761  ...               0.003366   \n",
       "498          326.759015          246.063987  ...               0.007246   \n",
       "499          240.638393          272.508001  ...               0.006242   \n",
       "500          266.032731          268.818739  ...               0.002946   \n",
       "501          265.984908          268.715916  ...               0.003127   \n",
       "\n",
       "     AreaShape_Zernike_9_1  AreaShape_Zernike_9_3  AreaShape_Zernike_9_5  \\\n",
       "0                 0.000147               0.000614               0.002853   \n",
       "1                 0.010123               0.010872               0.003388   \n",
       "2                 0.000422               0.001709               0.001811   \n",
       "3                 0.002362               0.002383               0.003189   \n",
       "4                 0.006038               0.006354               0.005241   \n",
       "..                     ...                    ...                    ...   \n",
       "497               0.009051               0.009114               0.003466   \n",
       "498               0.004257               0.007464               0.003554   \n",
       "499               0.005979               0.002588               0.014840   \n",
       "500               0.000134               0.002126               0.002532   \n",
       "501               0.001363               0.002302               0.002722   \n",
       "\n",
       "     AreaShape_Zernike_9_7  AreaShape_Zernike_9_9  Location_Center_X  \\\n",
       "0                 0.004647               0.001938         191.260218   \n",
       "1                 0.002730               0.001055         175.155803   \n",
       "2                 0.003297               0.001527         386.124551   \n",
       "3                 0.001942               0.000501          50.935356   \n",
       "4                 0.001666               0.000782         114.208990   \n",
       "..                     ...                    ...                ...   \n",
       "497               0.001668               0.003888         251.964668   \n",
       "498               0.001413               0.001338         326.759015   \n",
       "499               0.003823               0.004176         240.638393   \n",
       "500               0.001625               0.000706         266.032731   \n",
       "501               0.000194               0.000518         265.984908   \n",
       "\n",
       "     Location_Center_Y  Location_Center_Z  Number_Object_Number  \n",
       "0            83.703678                  0                     1  \n",
       "1           265.281929                  0                     2  \n",
       "2           347.588623                  0                     3  \n",
       "3           382.577836                  0                     4  \n",
       "4           467.850555                  0                     5  \n",
       "..                 ...                ...                   ...  \n",
       "497         270.975761                  0                     1  \n",
       "498         246.063987                  0                     1  \n",
       "499         272.508001                  0                     2  \n",
       "500         268.818739                  0                     1  \n",
       "501         268.715916                  0                     1  \n",
       "\n",
       "[502 rows x 61 columns]"
      ]
     },
     "execution_count": 10,
     "metadata": {},
     "output_type": "execute_result"
    }
   ],
   "source": [
    "progeria_fewer_objs"
   ]
  },
  {
   "cell_type": "code",
   "execution_count": 11,
   "metadata": {},
   "outputs": [
    {
     "data": {
      "image/png": "[encoded data removed]",
      "text/plain": [
       "<Figure size 432x288 with 1 Axes>"
      ]
     },
     "metadata": {
      "needs_background": "light"
     },
     "output_type": "display_data"
    }
   ],
   "source": [
    "split_vp(\"AreaShape_FormFactor\", data1=progeria_fewer_objs)"
   ]
  },
  {
   "cell_type": "code",
   "execution_count": null,
   "metadata": {},
   "outputs": [],
   "source": []
  }
 ],
 "metadata": {
  "kernelspec": {
   "display_name": "Python 3",
   "language": "python",
   "name": "python3"
  },
  "language_info": {
   "codemirror_mode": {
    "name": "ipython",
    "version": 3
   },
   "file_extension": ".py",
   "mimetype": "text/x-python",
   "name": "python",
   "nbconvert_exporter": "python",
   "pygments_lexer": "ipython3",
   "version": "3.8.3"
  },
  "orig_nbformat": 4
 },
 "nbformat": 4,
 "nbformat_minor": 2
}
