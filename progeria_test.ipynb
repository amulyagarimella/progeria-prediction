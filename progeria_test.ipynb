{
 "cells": [
  {
   "cell_type": "code",
   "execution_count": 2,
   "metadata": {},
   "outputs": [],
   "source": [
    "import numpy as np\n",
    "import pandas as pd\n",
    "import matplotlib.pyplot as plt\n",
    "from sklearn.decomposition import PCA\n",
    "import sys\n",
    "import pickle\n",
    "import skimage\n",
    "from imaris_ims_file_reader.ims import ims\n",
    "import h5py\n",
    "import tables\n",
    "np.random.seed(42) # for reproducibility"
   ]
  },
  {
   "cell_type": "code",
   "execution_count": 3,
   "metadata": {},
   "outputs": [],
   "source": [
    "sys.path.insert(1, 'aics-shparam')\n",
    "from aicsshparam import shtools, shparam"
   ]
  },
  {
   "cell_type": "markdown",
   "metadata": {},
   "source": [
    "# example"
   ]
  },
  {
   "cell_type": "code",
   "execution_count": 2,
   "metadata": {},
   "outputs": [
    {
     "data": {
      "text/html": [
       "<div>\n",
       "<style scoped>\n",
       "    .dataframe tbody tr th:only-of-type {\n",
       "        vertical-align: middle;\n",
       "    }\n",
       "\n",
       "    .dataframe tbody tr th {\n",
       "        vertical-align: top;\n",
       "    }\n",
       "\n",
       "    .dataframe thead th {\n",
       "        text-align: right;\n",
       "    }\n",
       "</style>\n",
       "<table border=\"1\" class=\"dataframe\">\n",
       "  <thead>\n",
       "    <tr style=\"text-align: right;\">\n",
       "      <th></th>\n",
       "      <th>shcoeffs_L0M0C</th>\n",
       "      <th>shcoeffs_L0M1C</th>\n",
       "      <th>...</th>\n",
       "      <th>shcoeffs_L4M4S</th>\n",
       "      <th>label</th>\n",
       "    </tr>\n",
       "  </thead>\n",
       "  <tbody>\n",
       "    <tr>\n",
       "      <th>0</th>\n",
       "      <td>11.812591</td>\n",
       "      <td>0.0</td>\n",
       "      <td>...</td>\n",
       "      <td>-0.528787</td>\n",
       "      <td>octahedron</td>\n",
       "    </tr>\n",
       "    <tr>\n",
       "      <th>1</th>\n",
       "      <td>14.995109</td>\n",
       "      <td>0.0</td>\n",
       "      <td>...</td>\n",
       "      <td>-0.012269</td>\n",
       "      <td>ball</td>\n",
       "    </tr>\n",
       "    <tr>\n",
       "      <th>...</th>\n",
       "      <td>...</td>\n",
       "      <td>...</td>\n",
       "      <td>...</td>\n",
       "      <td>...</td>\n",
       "      <td>...</td>\n",
       "    </tr>\n",
       "    <tr>\n",
       "      <th>28</th>\n",
       "      <td>11.811053</td>\n",
       "      <td>0.0</td>\n",
       "      <td>...</td>\n",
       "      <td>0.735944</td>\n",
       "      <td>octahedron</td>\n",
       "    </tr>\n",
       "    <tr>\n",
       "      <th>29</th>\n",
       "      <td>11.147437</td>\n",
       "      <td>0.0</td>\n",
       "      <td>...</td>\n",
       "      <td>0.635403</td>\n",
       "      <td>octahedron</td>\n",
       "    </tr>\n",
       "  </tbody>\n",
       "</table>\n",
       "<p>30 rows × 51 columns</p>\n",
       "</div>"
      ],
      "text/plain": [
       "    shcoeffs_L0M0C  shcoeffs_L0M1C  ...  shcoeffs_L4M4S       label\n",
       "0        11.812591             0.0  ...       -0.528787  octahedron\n",
       "1        14.995109             0.0  ...       -0.012269        ball\n",
       "..             ...             ...  ...             ...         ...\n",
       "28       11.811053             0.0  ...        0.735944  octahedron\n",
       "29       11.147437             0.0  ...        0.635403  octahedron\n",
       "\n",
       "[30 rows x 51 columns]"
      ]
     },
     "metadata": {},
     "output_type": "display_data"
    }
   ],
   "source": [
    "# Function that returns binary images containing one of the three\n",
    "# shapes: cubes, spheres octahedrons of random sizes.\n",
    "def get_random_3d_shape():\n",
    "    idx = np.random.choice([0, 1, 2], 1)[0]\n",
    "    element = [ball, cube, octahedron][idx]\n",
    "    label = ['ball', 'cube', 'octahedron'][idx]\n",
    "    img = element(10 + int(10 * np.random.rand()))\n",
    "    img = np.pad(img, ((1, 1), (1, 1), (1, 1)))\n",
    "    img = img.reshape(1, *img.shape)\n",
    "    # Rotate shapes to increase dataset variability.\n",
    "    img = shtools.rotate_image_2d(\n",
    "        image=img,\n",
    "        angle=360 * np.random.rand()\n",
    "    ).squeeze()\n",
    "    return label, img\n",
    "\n",
    "# Compute spherical harmonics coefficients of shape and store them\n",
    "# in a pandas dataframe.\n",
    "df_coeffs = pd.DataFrame([])\n",
    "for i in range(30):\n",
    "    # Get a random shape\n",
    "    label, img = get_random_3d_shape()\n",
    "    # Parameterize with L=4, which corresponds to50 coefficients\n",
    "    # in total\n",
    "    (coeffs, _), _ = shparam.get_shcoeffs(image=img, lmax=4)\n",
    "    coeffs.update({'label': [label]})\n",
    "    coeffs = pd.DataFrame.from_dict(coeffs)\n",
    "    df_coeffs = pd.concat([df_coeffs,coeffs], ignore_index=True)\n",
    "\n",
    "# Vizualize the resulting dataframe\n",
    "with pd.option_context('display.max_rows', 5, 'display.max_columns', 5):\n",
    "    display(df_coeffs)"
   ]
  },
  {
   "cell_type": "markdown",
   "metadata": {},
   "source": [
    "# progeria cell"
   ]
  },
  {
   "cell_type": "code",
   "execution_count": 4,
   "metadata": {},
   "outputs": [
    {
     "name": "stdout",
     "output_type": "stream",
     "text": [
      "Opening writeable file: /Users/amulya/Downloads/Late_progeria_IF_Test_1.ims \n",
      "\n"
     ]
    },
    {
     "name": "stderr",
     "output_type": "stream",
     "text": [
      "/usr/local/lib/python3.11/site-packages/imaris_ims_file_reader/ims.py:189: UserWarning: swmr=True only affects read ('r') mode. For swmr write mode, set f.swmr_mode = True after opening the file.\n",
      "  self.hf = h5py.File(self.filePathComplete, 'a', swmr=True)\n"
     ]
    }
   ],
   "source": [
    "tables.file._open_files.close_all()\n",
    "fn = \"/Users/amulya/Downloads/Late_progeria_IF_Test_1.ims\"\n",
    "f = ims(fn,write=True)\n",
    "c1 = f[0][0]\n",
    "c2 = f[0][1]"
   ]
  },
  {
   "cell_type": "markdown",
   "metadata": {},
   "source": [
    "## binary mask"
   ]
  },
  {
   "cell_type": "code",
   "execution_count": 9,
   "metadata": {},
   "outputs": [],
   "source": [
    "sys.path.insert(1, 'aics-segmentation')\n",
    "# package for 3d visualization\n",
    "from itkwidgets import view                              \n",
    "from aicssegmentation.core.visual import seg_fluo_side_by_side,  single_fluorescent_view, segmentation_quick_view\n",
    "import matplotlib.pyplot as plt\n",
    "plt.rcParams[\"figure.figsize\"] = [16, 12]\n",
    "\n",
    "# package for io \n",
    "from aicsimageio import AICSImage\n",
    "from aicsimageio.writers import OmeTiffWriter\n",
    "\n",
    "# function for core algorithm\n",
    "from aicssegmentation.core.vessel import filament_2d_wrapper\n",
    "from aicssegmentation.core.pre_processing_utils import intensity_normalization, image_smoothing_gaussian_3d\n",
    "from aicssegmentation.core.utils import get_middle_frame, hole_filling, get_3dseed_from_mid_frame\n",
    "from skimage.morphology import remove_small_objects,  dilation, ball\n",
    "from skimage.segmentation import watershed"
   ]
  },
  {
   "cell_type": "code",
   "execution_count": 12,
   "metadata": {},
   "outputs": [
    {
     "name": "stdout",
     "output_type": "stream",
     "text": [
      "intensity norm: min-max norm with upper bound 4000\n"
     ]
    }
   ],
   "source": [
    "intensity_scaling_param = [4000]\n",
    "# intensity normalization\n",
    "struct_img = intensity_normalization(c2, scaling_param=intensity_scaling_param)"
   ]
  },
  {
   "cell_type": "code",
   "execution_count": 16,
   "metadata": {},
   "outputs": [],
   "source": [
    "gaussian_smoothing_sigma = 8\n",
    "structure_img_smooth = image_smoothing_gaussian_3d(struct_img, sigma=gaussian_smoothing_sigma)"
   ]
  },
  {
   "cell_type": "code",
   "execution_count": 63,
   "metadata": {},
   "outputs": [
    {
     "name": "stdout",
     "output_type": "stream",
     "text": [
      "72\n",
      "73\n",
      "74\n",
      "75\n",
      "76\n",
      "77\n",
      "78\n",
      "79\n",
      "80\n",
      "81\n",
      "82\n",
      "83\n",
      "84\n",
      "85\n",
      "86\n"
     ]
    }
   ],
   "source": [
    "from skimage.exposure import histogram\n",
    "from skimage.feature import canny\n",
    "import scipy\n",
    "from skimage.morphology import closing, square\n",
    "from skimage.color import label2rgb\n",
    "\n",
    "binary_mask = np.zeros(np.shape(c2))\n",
    "# \n",
    "for i in range(72,np.shape(c2)[0]):\n",
    "    print(i)\n",
    "    thresh = skimage.filters.threshold_otsu(structure_img_smooth[i])\n",
    "    binary = structure_img_smooth[i] > thresh\n",
    "    bw = closing(binary, square(5))\n",
    "    labeled,_ = scipy.ndimage.label(bw)\n",
    "    region_table = pd.DataFrame.from_dict(skimage.measure.regionprops_table(labeled,properties=['label','area']))\n",
    "    largest = region_table.loc[np.argmax(region_table['area']),'label']\n",
    "    binary_mask[i][np.where(labeled==largest)] = 1\n",
    "    image_label_overlay = label2rgb(binary_mask[i], image=structure_img_smooth[i], bg_label=0)\n",
    "    #plt.imshow(image_label_overlay)\n",
    "    #plt.show()"
   ]
  },
  {
   "cell_type": "code",
   "execution_count": null,
   "metadata": {},
   "outputs": [],
   "source": [
    "att = np.array(binary_mask[0],dtype=int)\n",
    "att_2 = skimage.morphology.diameter_opening(att, diameter_threshold=20)\n",
    "plt.imshow(att_2,cmap=\"gray\")"
   ]
  },
  {
   "cell_type": "code",
   "execution_count": 65,
   "metadata": {},
   "outputs": [],
   "source": [
    "skimage.io.imsave(\"Late_progeria_IF_Test_1_c2_binarymask_v2.tif\", binary_mask)"
   ]
  },
  {
   "cell_type": "markdown",
   "metadata": {},
   "source": [
    "## LMNA stain"
   ]
  },
  {
   "cell_type": "code",
   "execution_count": 71,
   "metadata": {},
   "outputs": [],
   "source": [
    "(coeffs, _), (image_, mesh, grid_down, transform) = shparam.get_shcoeffs(image=binary_mask, lmax=16)"
   ]
  },
  {
   "cell_type": "code",
   "execution_count": null,
   "metadata": {},
   "outputs": [],
   "source": [
    "coeffs = pd.DataFrame.from_dict({k : [v] for k, v in coeffs.items()})"
   ]
  },
  {
   "cell_type": "code",
   "execution_count": 72,
   "metadata": {},
   "outputs": [],
   "source": [
    "with open(\"progeria_test_binary_v2_coefs_l16.pkl\", \"wb\") as f:\n",
    "    pickle.dump(coeffs, f)"
   ]
  },
  {
   "cell_type": "markdown",
   "metadata": {},
   "source": [
    "## visualizations"
   ]
  },
  {
   "cell_type": "code",
   "execution_count": 68,
   "metadata": {},
   "outputs": [],
   "source": [
    "# orig cell mesh\n",
    "mesh_orig, img_output, centroid = shtools.get_mesh_from_image(image=binary_mask)"
   ]
  },
  {
   "cell_type": "code",
   "execution_count": 73,
   "metadata": {},
   "outputs": [],
   "source": [
    "shtools.save_polydata(mesh, 'mesh_calc_binary_l16_v2.vtk')"
   ]
  },
  {
   "cell_type": "markdown",
   "metadata": {},
   "source": []
  },
  {
   "cell_type": "code",
   "execution_count": 70,
   "metadata": {},
   "outputs": [],
   "source": [
    "shtools.save_polydata(mesh_orig, 'mesh_orig_binary_v2.vtk')"
   ]
  },
  {
   "cell_type": "code",
   "execution_count": null,
   "metadata": {},
   "outputs": [],
   "source": []
  }
 ],
 "metadata": {
  "kernelspec": {
   "display_name": "Python 3",
   "language": "python",
   "name": "python3"
  },
  "language_info": {
   "codemirror_mode": {
    "name": "ipython",
    "version": 3
   },
   "file_extension": ".py",
   "mimetype": "text/x-python",
   "name": "python",
   "nbconvert_exporter": "python",
   "pygments_lexer": "ipython3",
   "version": "3.11.4"
  },
  "orig_nbformat": 4
 },
 "nbformat": 4,
 "nbformat_minor": 2
}
