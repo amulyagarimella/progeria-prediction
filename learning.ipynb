{
 "cells": [
  {
   "cell_type": "code",
   "execution_count": 1,
   "metadata": {},
   "outputs": [],
   "source": [
    "import os\n",
    "import pandas as pd\n",
    "import numpy as np\n",
    "import torch\n",
    "from torch import nn\n",
    "from torch.utils.data import DataLoader\n",
    "from torch.utils.data import Dataset"
   ]
  },
  {
   "cell_type": "code",
   "execution_count": 6,
   "metadata": {},
   "outputs": [],
   "source": [
    "progeria = pd.read_csv(r\"C:\\Users\\amulya\\Documents\\progeria-prediction\\230705_progeria_c2\\IdentifyPrimaryObjects.csv\")\n",
    "normal = pd.read_csv(r\"C:\\Users\\amulya\\Documents\\progeria-prediction\\230705_normal_c2\\IdentifyPrimaryObjects.csv\")\n",
    "cols_to_drop = [\"ImageNumber\", \"ObjectNumber\", \"Number_Object_Number\"]\n",
    "progeria_features = progeria.drop(columns=cols_to_drop)\n",
    "progeria_features = progeria_features.assign(label=1) \n",
    "normal_features = normal.drop(columns=cols_to_drop)\n",
    "normal_features = progeria_features.assign(label=0) \n",
    "full_data = pd.concat([progeria_features, normal_features],axis=0)"
   ]
  },
  {
   "cell_type": "code",
   "execution_count": 95,
   "metadata": {},
   "outputs": [],
   "source": [
    "class CellFeaturesDataset(Dataset):\n",
    "    def __init__(self, fulldata, transform=None, target_transform=None):\n",
    "        self.labels = fulldata.loc[:,'label'].values\n",
    "        self.data = fulldata.loc[:,~fulldata.columns.isin(['label'])].values\n",
    "        self.transform = transform\n",
    "        self.target_transform = target_transform\n",
    "\n",
    "    def __len__(self):\n",
    "        return len(self.labels)\n",
    "\n",
    "    def __getitem__(self, idx):\n",
    "        if torch.is_tensor(idx):\n",
    "            idx = idx.tolist()\n",
    "        item = self.data[idx,:]\n",
    "        label = self.labels[idx]\n",
    "        if self.transform:\n",
    "            item = self.transform(item)\n",
    "        if self.target_transform:\n",
    "            label = self.target_transform(label)\n",
    "        return item.float(), label.float()"
   ]
  },
  {
   "cell_type": "code",
   "execution_count": 174,
   "metadata": {},
   "outputs": [],
   "source": [
    "def tensor_and_scale (x):\n",
    "    m = x.mean(0)\n",
    "    s = x.std(0)\n",
    "    x -= m\n",
    "    x /= s\n",
    "    # torch.allclose(x, torch.from_numpy(arr_norm))\n",
    "    return torch.as_tensor(x)\n",
    "\n",
    "\n",
    "t = tensor_and_scale"
   ]
  },
  {
   "cell_type": "code",
   "execution_count": 175,
   "metadata": {},
   "outputs": [],
   "source": [
    "cell_dataset = CellFeaturesDataset(full_data, transform=t, target_transform=torch.as_tensor)"
   ]
  },
  {
   "cell_type": "code",
   "execution_count": 176,
   "metadata": {},
   "outputs": [],
   "source": [
    "test_cells, train_cells = torch.utils.data.random_split(cell_dataset, [.3, .7])\n",
    "train_dataloader = DataLoader(train_cells, batch_size=64, shuffle=True)\n",
    "test_dataloader = DataLoader(test_cells, batch_size=64, shuffle=True)"
   ]
  },
  {
   "cell_type": "code",
   "execution_count": 177,
   "metadata": {},
   "outputs": [],
   "source": [
    "class NeuralNetwork(nn.Module):\n",
    "    def __init__(self):\n",
    "        super().__init__()\n",
    "        # self.flatten = nn.Flatten()\n",
    "        self.linear_relu_stack = nn.Sequential(\n",
    "            nn.Linear(in_features=58, out_features=20),\n",
    "            nn.ReLU(),\n",
    "            nn.Linear(in_features=20, out_features=20),\n",
    "            nn.ReLU(),\n",
    "            nn.Linear(in_features=20, out_features=2),\n",
    "        )\n",
    "\n",
    "    def forward(self, x):\n",
    "        # do stuff here\n",
    "        logits = self.linear_relu_stack(x)\n",
    "        prediction = torch.special.expit(logits)\n",
    "        return logits, prediction\n",
    "\n",
    "device = (\n",
    "    \"cuda\"\n",
    "    if torch.cuda.is_available()\n",
    "    else \"mps\"\n",
    "    if torch.backends.mps.is_available()\n",
    "    else \"cpu\"\n",
    ")\n",
    "learning_rate = 1e-11\n",
    "batch_size = 64\n",
    "epochs = 1\n",
    "loss_fn = nn.NLLLoss()\n",
    "model = NeuralNetwork()\n",
    "optimizer = torch.optim.SGD(model.parameters(), lr=learning_rate)"
   ]
  },
  {
   "cell_type": "code",
   "execution_count": 199,
   "metadata": {},
   "outputs": [],
   "source": [
    "def train(dataloader, model, loss_fn, optimizer):\n",
    "    size = len(dataloader.dataset)\n",
    "    model.train()\n",
    "    model.float()\n",
    "    for batch, (X, y) in enumerate(dataloader):\n",
    "        X, y = X.to(device), y.to(device)\n",
    "        \n",
    "        # Compute prediction error\n",
    "        pred = model(X)[0]\n",
    "        loss = loss_fn(pred, y.long())\n",
    "\n",
    "        # Backpropagation\n",
    "        loss.backward()\n",
    "        optimizer.step()\n",
    "        optimizer.zero_grad()\n",
    "\n",
    "        if batch % 5 == 0:\n",
    "            loss, current = loss.item(), (batch + 1) * len(X)\n",
    "            print(f\"loss: {loss:>7f}  [{current:>5d}/{size:>5d}]\")"
   ]
  },
  {
   "cell_type": "code",
   "execution_count": 200,
   "metadata": {},
   "outputs": [],
   "source": [
    "def test(dataloader, model, loss_fn):\n",
    "    size = len(dataloader.dataset)\n",
    "    num_batches = len(dataloader)\n",
    "    model.eval()\n",
    "    test_loss, correct = 0, 0\n",
    "    with torch.no_grad():\n",
    "        for X, y in dataloader:\n",
    "            X, y = X.to(device), y.to(device)\n",
    "            pred = model(X)[0]\n",
    "            test_loss += loss_fn(pred, y.long()).item()\n",
    "            correct += (pred.argmax(1) == y).type(torch.float).sum().item()\n",
    "    test_loss /= num_batches\n",
    "    correct /= size\n",
    "    print(f\"Test Error: \\n Accuracy: {(100*correct):>0.1f}%, Avg loss: {test_loss:>8f} \\n\")"
   ]
  },
  {
   "cell_type": "code",
   "execution_count": 201,
   "metadata": {},
   "outputs": [
    {
     "name": "stdout",
     "output_type": "stream",
     "text": [
      "Epoch 1\n",
      "-------------------------------\n",
      "loss:     nan  [   64/ 2961]\n",
      "loss:     nan  [  384/ 2961]\n",
      "loss:     nan  [  704/ 2961]\n",
      "loss:     nan  [ 1024/ 2961]\n",
      "loss:     nan  [ 1344/ 2961]\n",
      "loss:     nan  [ 1664/ 2961]\n",
      "loss:     nan  [ 1984/ 2961]\n",
      "loss:     nan  [ 2304/ 2961]\n",
      "loss:     nan  [ 2624/ 2961]\n",
      "loss:     nan  [ 2944/ 2961]\n",
      "Test Error: \n",
      " Accuracy: 47.8%, Avg loss:      nan \n",
      "\n",
      "Done!\n"
     ]
    }
   ],
   "source": [
    "for t in range(epochs):\n",
    "    print(f\"Epoch {t+1}\\n-------------------------------\")\n",
    "    train(train_dataloader, model, loss_fn, optimizer)\n",
    "    test(test_dataloader, model, loss_fn)\n",
    "print(\"Done!\")"
   ]
  },
  {
   "cell_type": "code",
   "execution_count": null,
   "metadata": {},
   "outputs": [],
   "source": []
  },
  {
   "cell_type": "code",
   "execution_count": null,
   "metadata": {},
   "outputs": [],
   "source": []
  }
 ],
 "metadata": {
  "kernelspec": {
   "display_name": "Python 3",
   "language": "python",
   "name": "python3"
  },
  "language_info": {
   "codemirror_mode": {
    "name": "ipython",
    "version": 3
   },
   "file_extension": ".py",
   "mimetype": "text/x-python",
   "name": "python",
   "nbconvert_exporter": "python",
   "pygments_lexer": "ipython3",
   "version": "3.11.4"
  },
  "orig_nbformat": 4
 },
 "nbformat": 4,
 "nbformat_minor": 2
}
